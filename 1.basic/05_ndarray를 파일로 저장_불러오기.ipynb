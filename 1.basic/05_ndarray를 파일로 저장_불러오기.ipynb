{
 "cells": [
  {
   "cell_type": "markdown",
   "metadata": {},
   "source": [
    "# 배열을 파일에 저장 및 불러오기\n",
    "- ## 바이너리 파일로 저장/불러오기\n",
    "    - ### np.save(\"파일경로\", 배열)\n",
    "        - 배열을 raw 바이너리 형식으로 저장한다. (압축하지 않은)\n",
    "        - 파일명에 확장자로 npy를 붙인다. (무조건 붙인다. abc.xxx 해도 abc.xxx.npy 로 저장)\n",
    "    - ### np.load(\"파일경로\") \n",
    "        - 파일에 저장된 배열을 불러온다.\n",
    "    - ### np.savez(\"파일경로\", 이름=배열, 이름=배열, ...)\n",
    "        - 여러개의 배열을 저장할 때 사용\n",
    "        - 파일명에 확장자로 npz가 붙는다.\n",
    "        - 내부적으로 압축해서 저장한다.\n",
    "        - load() 함수로 불러오면 저장된 배열목록이 반환 된다. 저장시 지정한 이름을 이용해 조회 \n",
    "- ## 텍스트 파일로 저장하고 불러오기\n",
    "    - ### savetxt(\"파일경로\", 배열 [, delimiter='공백') \n",
    "        - 텍스트 형태로 저장.\n",
    "        - 각 원소는 공백을 기준으로 나뉘며 delimiter 속성으로 구분자를 지정할 수 있다. (delimiter생략시 공백)\n",
    "        - 1차원과 2차원 배열만 저장 가능하다. (3차원 이상은 저장이 안된다.)\n",
    "    - ### loadtxt(\"파일경로\" [,dtype=float, delimiter=공백) (dtype은 디폴트값이 float)\n",
    "    - delimiter는 load,save맞춰줘야함"
   ]
  },
  {
   "cell_type": "code",
   "execution_count": 1,
   "metadata": {},
   "outputs": [],
   "source": [
    "import numpy as np"
   ]
  },
  {
   "cell_type": "code",
   "execution_count": 2,
   "metadata": {},
   "outputs": [
    {
     "name": "stdout",
     "output_type": "stream",
     "text": [
      "(5,) (3, 3, 5) (5, 10)\n"
     ]
    }
   ],
   "source": [
    "a = np.array([1, 10, 5, 7, 20])\n",
    "b = np.ones(shape= (3,3,5))\n",
    "c = np.random.normal(10,2,size = (5,10)) #평균:10, 표준편차:2\n",
    "print(a.shape, b.shape, c.shape)"
   ]
  },
  {
   "cell_type": "code",
   "execution_count": 9,
   "metadata": {},
   "outputs": [],
   "source": [
    "# binary 파일에 배열을 저장\n",
    "# 한 파일에 하나에 배열 - save(경로, 배열)\n",
    "# 경로 : 상대경로(현재 working directory 기준 경로),\n",
    "#        절대경로(root 디렉토리부터 전체 경로) - c:\\a\\b\\abc\n",
    "np.save(\"data/array_a\", a) #data/array_a.npy\n",
    "np.save(\"data/array_b.npy\", b) \n",
    "np.save(\"data/array_c\", c) #data/array.c.npy\n",
    "# 저장할때 위에 .npy안붙여도 디폴트값으로 .npy가 붙어서 저장됨"
   ]
  },
  {
   "cell_type": "code",
   "execution_count": 10,
   "metadata": {},
   "outputs": [],
   "source": [
    "# 불러오기(load) - load()\n",
    "a2 = np.load('data/array_a.npy')\n",
    "b2 = np.load('data/array_b.npy')\n",
    "c2 = np.load('data/array_c.npy')"
   ]
  },
  {
   "cell_type": "code",
   "execution_count": 18,
   "metadata": {},
   "outputs": [],
   "source": [
    "# 한파일에 여러개 배열 - savez(경로, 이름1=배열, 이름2=배열, ...) 이름은 변수명?이라고생각하며될듯\n",
    "np.savez(\"data/array\", a=a, b=b, c=c )"
   ]
  },
  {
   "cell_type": "code",
   "execution_count": 21,
   "metadata": {},
   "outputs": [
    {
     "data": {
      "text/plain": [
       "<numpy.lib.npyio.NpzFile at 0x2609e6df940>"
      ]
     },
     "execution_count": 21,
     "metadata": {},
     "output_type": "execute_result"
    }
   ],
   "source": [
    "arrays = np.load(\"data/array.npz\")\n",
    "arrays"
   ]
  },
  {
   "cell_type": "code",
   "execution_count": 22,
   "metadata": {},
   "outputs": [
    {
     "data": {
      "text/plain": [
       "['a', 'b', 'c']"
      ]
     },
     "execution_count": 22,
     "metadata": {},
     "output_type": "execute_result"
    }
   ],
   "source": [
    "#배열들의 이름들을 조회\n",
    "arrays.files"
   ]
  },
  {
   "cell_type": "code",
   "execution_count": 24,
   "metadata": {},
   "outputs": [],
   "source": [
    "# 각배열을 조회 -index연산자 사용\n",
    "a3 = arrays['a']\n",
    "b3 = arrays['b']\n",
    "c3 = arrays['c']"
   ]
  },
  {
   "cell_type": "code",
   "execution_count": 25,
   "metadata": {},
   "outputs": [
    {
     "data": {
      "text/plain": [
       "array([ 1, 10,  5,  7, 20])"
      ]
     },
     "execution_count": 25,
     "metadata": {},
     "output_type": "execute_result"
    }
   ],
   "source": [
    "a3"
   ]
  },
  {
   "cell_type": "code",
   "execution_count": 26,
   "metadata": {},
   "outputs": [
    {
     "data": {
      "text/plain": [
       "(3, 3, 5)"
      ]
     },
     "execution_count": 26,
     "metadata": {},
     "output_type": "execute_result"
    }
   ],
   "source": [
    "b3.shape"
   ]
  },
  {
   "cell_type": "code",
   "execution_count": 27,
   "metadata": {},
   "outputs": [
    {
     "data": {
      "text/plain": [
       "array([[ 7.35719843,  7.21921896,  8.11203623,  9.02266698, 11.67262018,\n",
       "         8.06232998,  7.28394849, 11.54147456,  8.20971704,  9.07588113],\n",
       "       [12.42063155, 11.75524071, 10.66469774, 11.2494036 , 13.26088095,\n",
       "        11.83425714,  4.69783774, 11.98871097, 10.65820603,  7.75166017],\n",
       "       [11.06588464, 10.77261768,  8.02720461,  8.81285652,  9.64418574,\n",
       "         8.93001056,  7.69049921, 12.0538393 ,  6.81916469, 10.90478361],\n",
       "       [ 8.05946035,  9.43705744,  8.26361552,  9.75118442, 12.03652167,\n",
       "        10.61025212,  8.84090021, 11.14696352,  9.59688923, 10.5689937 ],\n",
       "       [10.44156268, 10.59985205,  8.71478003,  7.91959124, 11.26644323,\n",
       "        10.41099209, 11.53420087, 11.83574133,  5.59900288, 11.06117503]])"
      ]
     },
     "execution_count": 27,
     "metadata": {},
     "output_type": "execute_result"
    }
   ],
   "source": [
    "c3"
   ]
  },
  {
   "cell_type": "code",
   "execution_count": null,
   "metadata": {},
   "outputs": [],
   "source": [
    "# text 파일로 저장 -> csv (comma separated value). 1차원, 2차원 배열만 저장가능\n",
    "# savetext(), loadtext()"
   ]
  },
  {
   "cell_type": "code",
   "execution_count": 29,
   "metadata": {},
   "outputs": [],
   "source": [
    "np.savetxt('data/a.csv', a)"
   ]
  },
  {
   "cell_type": "code",
   "execution_count": 32,
   "metadata": {},
   "outputs": [],
   "source": [
    "a4 = np.loadtxt('data/a.csv', dtype=np.int)"
   ]
  },
  {
   "cell_type": "code",
   "execution_count": 40,
   "metadata": {},
   "outputs": [
    {
     "data": {
      "text/plain": [
       "array([ 1, 10,  5,  7, 20])"
      ]
     },
     "execution_count": 40,
     "metadata": {},
     "output_type": "execute_result"
    }
   ],
   "source": [
    "a4"
   ]
  },
  {
   "cell_type": "code",
   "execution_count": 41,
   "metadata": {},
   "outputs": [
    {
     "name": "stdout",
     "output_type": "stream",
     "text": [
      "(3, 3, 5)\n"
     ]
    }
   ],
   "source": [
    "print(b.shape)\n",
    "np.savetxt('data/b.csv', b) # 3차원이라서 저장.txt로 저장이 안됨"
   ]
  },
  {
   "cell_type": "code",
   "execution_count": 39,
   "metadata": {},
   "outputs": [
    {
     "name": "stdout",
     "output_type": "stream",
     "text": [
      "(5, 10)\n"
     ]
    }
   ],
   "source": [
    "print(c.shape)\n",
    "np.savetxt('data/c.csv', c)"
   ]
  },
  {
   "cell_type": "code",
   "execution_count": 38,
   "metadata": {},
   "outputs": [
    {
     "name": "stdout",
     "output_type": "stream",
     "text": [
      "(5, 10)\n"
     ]
    },
    {
     "data": {
      "text/plain": [
       "array([[ 7.35719843,  7.21921896,  8.11203623,  9.02266698, 11.67262018,\n",
       "         8.06232998,  7.28394849, 11.54147456,  8.20971704,  9.07588113],\n",
       "       [12.42063155, 11.75524071, 10.66469774, 11.2494036 , 13.26088095,\n",
       "        11.83425714,  4.69783774, 11.98871097, 10.65820603,  7.75166017],\n",
       "       [11.06588464, 10.77261768,  8.02720461,  8.81285652,  9.64418574,\n",
       "         8.93001056,  7.69049921, 12.0538393 ,  6.81916469, 10.90478361],\n",
       "       [ 8.05946035,  9.43705744,  8.26361552,  9.75118442, 12.03652167,\n",
       "        10.61025212,  8.84090021, 11.14696352,  9.59688923, 10.5689937 ],\n",
       "       [10.44156268, 10.59985205,  8.71478003,  7.91959124, 11.26644323,\n",
       "        10.41099209, 11.53420087, 11.83574133,  5.59900288, 11.06117503]])"
      ]
     },
     "execution_count": 38,
     "metadata": {},
     "output_type": "execute_result"
    }
   ],
   "source": [
    "c4 = np.loadtxt('data/c.csv')\n",
    "print(c4.shape)\n",
    "c4"
   ]
  },
  {
   "cell_type": "code",
   "execution_count": 46,
   "metadata": {},
   "outputs": [],
   "source": [
    "np.savetxt('data/c2.csv', c, delimiter=',') #구분자를 ,로 넣음"
   ]
  },
  {
   "cell_type": "code",
   "execution_count": 49,
   "metadata": {},
   "outputs": [
    {
     "data": {
      "text/plain": [
       "(5, 10)"
      ]
     },
     "execution_count": 49,
     "metadata": {},
     "output_type": "execute_result"
    }
   ],
   "source": [
    "c5 = np.loadtxt('data/c2.csv', delimiter=',') # 구분자를 넣어줬으면 호출할때도 넣어줘야함\n",
    "c5.shape"
   ]
  },
  {
   "cell_type": "code",
   "execution_count": 51,
   "metadata": {},
   "outputs": [
    {
     "data": {
      "text/plain": [
       "array([[ 7.35719843,  7.21921896,  8.11203623,  9.02266698, 11.67262018,\n",
       "         8.06232998,  7.28394849, 11.54147456,  8.20971704,  9.07588113],\n",
       "       [12.42063155, 11.75524071, 10.66469774, 11.2494036 , 13.26088095,\n",
       "        11.83425714,  4.69783774, 11.98871097, 10.65820603,  7.75166017],\n",
       "       [11.06588464, 10.77261768,  8.02720461,  8.81285652,  9.64418574,\n",
       "         8.93001056,  7.69049921, 12.0538393 ,  6.81916469, 10.90478361],\n",
       "       [ 8.05946035,  9.43705744,  8.26361552,  9.75118442, 12.03652167,\n",
       "        10.61025212,  8.84090021, 11.14696352,  9.59688923, 10.5689937 ],\n",
       "       [10.44156268, 10.59985205,  8.71478003,  7.91959124, 11.26644323,\n",
       "        10.41099209, 11.53420087, 11.83574133,  5.59900288, 11.06117503]])"
      ]
     },
     "execution_count": 51,
     "metadata": {},
     "output_type": "execute_result"
    }
   ],
   "source": [
    "c5"
   ]
  },
  {
   "cell_type": "code",
   "execution_count": 47,
   "metadata": {},
   "outputs": [],
   "source": [
    "np.savetxt('data/c3.csv', c, delimiter='~') #구분자를 ~로 넣음, 가능하다는것만알고 ~은 쓰지말자"
   ]
  },
  {
   "cell_type": "code",
   "execution_count": 48,
   "metadata": {},
   "outputs": [
    {
     "data": {
      "text/plain": [
       "(5, 10)"
      ]
     },
     "execution_count": 48,
     "metadata": {},
     "output_type": "execute_result"
    }
   ],
   "source": [
    "c6 = np.loadtxt('data/c3.csv', delimiter='~') # 구분자를 넣어줬으면 호출할때도 넣어줘야함\n",
    "c6.shape"
   ]
  },
  {
   "cell_type": "code",
   "execution_count": 53,
   "metadata": {},
   "outputs": [
    {
     "data": {
      "text/plain": [
       "array([[ 7.35719843,  7.21921896,  8.11203623,  9.02266698, 11.67262018,\n",
       "         8.06232998,  7.28394849, 11.54147456,  8.20971704,  9.07588113],\n",
       "       [12.42063155, 11.75524071, 10.66469774, 11.2494036 , 13.26088095,\n",
       "        11.83425714,  4.69783774, 11.98871097, 10.65820603,  7.75166017],\n",
       "       [11.06588464, 10.77261768,  8.02720461,  8.81285652,  9.64418574,\n",
       "         8.93001056,  7.69049921, 12.0538393 ,  6.81916469, 10.90478361],\n",
       "       [ 8.05946035,  9.43705744,  8.26361552,  9.75118442, 12.03652167,\n",
       "        10.61025212,  8.84090021, 11.14696352,  9.59688923, 10.5689937 ],\n",
       "       [10.44156268, 10.59985205,  8.71478003,  7.91959124, 11.26644323,\n",
       "        10.41099209, 11.53420087, 11.83574133,  5.59900288, 11.06117503]])"
      ]
     },
     "execution_count": 53,
     "metadata": {},
     "output_type": "execute_result"
    }
   ],
   "source": [
    "c6"
   ]
  },
  {
   "cell_type": "code",
   "execution_count": null,
   "metadata": {},
   "outputs": [],
   "source": []
  }
 ],
 "metadata": {
  "kernelspec": {
   "display_name": "Python 3",
   "language": "python",
   "name": "python3"
  },
  "language_info": {
   "codemirror_mode": {
    "name": "ipython",
    "version": 3
   },
   "file_extension": ".py",
   "mimetype": "text/x-python",
   "name": "python",
   "nbconvert_exporter": "python",
   "pygments_lexer": "ipython3",
   "version": "3.8.5"
  },
  "toc": {
   "base_numbering": 1,
   "nav_menu": {},
   "number_sections": true,
   "sideBar": true,
   "skip_h1_title": false,
   "title_cell": "Table of Contents",
   "title_sidebar": "Contents",
   "toc_cell": false,
   "toc_position": {},
   "toc_section_display": true,
   "toc_window_display": false
  },
  "varInspector": {
   "cols": {
    "lenName": 16,
    "lenType": 16,
    "lenVar": 40
   },
   "kernels_config": {
    "python": {
     "delete_cmd_postfix": "",
     "delete_cmd_prefix": "del ",
     "library": "var_list.py",
     "varRefreshCmd": "print(var_dic_list())"
    },
    "r": {
     "delete_cmd_postfix": ") ",
     "delete_cmd_prefix": "rm(",
     "library": "var_list.r",
     "varRefreshCmd": "cat(var_dic_list()) "
    }
   },
   "types_to_exclude": [
    "module",
    "function",
    "builtin_function_or_method",
    "instance",
    "_Feature"
   ],
   "window_display": false
  }
 },
 "nbformat": 4,
 "nbformat_minor": 2
}

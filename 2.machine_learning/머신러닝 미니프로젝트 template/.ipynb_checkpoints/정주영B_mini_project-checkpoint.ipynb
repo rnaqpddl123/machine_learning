{
 "cells": [
  {
   "cell_type": "code",
   "execution_count": 1,
   "id": "3abb7465",
   "metadata": {},
   "outputs": [],
   "source": [
    "import numpy as np\n",
    "import pandas as pd\n",
    "import matplotlib.pyplot as plt\n",
    "\n",
    "from sklearn.model_selection import train_test_split\n",
    "from sklearn.tree import DecisionTreeClassifier\n",
    "from sklearn.ensemble import RandomForestClassifier #ensemble=>앙상블모델\n",
    "from sklearn.metrics import roc_curve, plot_roc_curve, roc_auc_score\n",
    "\n",
    "from sklearn.preprocessing import StandardScaler\n",
    "from sklearn.model_selection import GridSearchCV\n",
    "from sklearn.pipeline import Pipeline\n",
    "\n",
    "from sklearn.neighbors import KNeighborsClassifier\n",
    "from sklearn.preprocessing import MinMaxScaler\n"
   ]
  },
  {
   "cell_type": "markdown",
   "id": "a280077f",
   "metadata": {},
   "source": [
    "### 1번방법 : 결측치가 들어가있는데이터들 없애기만 하고 학습시키기"
   ]
  },
  {
   "cell_type": "code",
   "execution_count": 131,
   "id": "61f021b2",
   "metadata": {},
   "outputs": [],
   "source": [
    "data = pd.read_csv(r'C:\\202105_lab2\\2.machine_learning\\머신러닝 미니프로젝트 template\\cs_data.csv')"
   ]
  },
  {
   "cell_type": "code",
   "execution_count": 117,
   "id": "b298d256",
   "metadata": {
    "collapsed": true
   },
   "outputs": [
    {
     "name": "stdout",
     "output_type": "stream",
     "text": [
      "<class 'pandas.core.frame.DataFrame'>\n",
      "RangeIndex: 150000 entries, 0 to 149999\n",
      "Data columns (total 12 columns):\n",
      " #   Column                                Non-Null Count   Dtype  \n",
      "---  ------                                --------------   -----  \n",
      " 0   Unnamed: 0                            150000 non-null  int64  \n",
      " 1   SeriousDlqin2yrs                      150000 non-null  int64  \n",
      " 2   RevolvingUtilizationOfUnsecuredLines  150000 non-null  float64\n",
      " 3   age                                   150000 non-null  int64  \n",
      " 4   NumberOfTime30-59DaysPastDueNotWorse  150000 non-null  int64  \n",
      " 5   DebtRatio                             150000 non-null  float64\n",
      " 6   MonthlyIncome                         120269 non-null  float64\n",
      " 7   NumberOfOpenCreditLinesAndLoans       150000 non-null  int64  \n",
      " 8   NumberOfTimes90DaysLate               150000 non-null  int64  \n",
      " 9   NumberRealEstateLoansOrLines          150000 non-null  int64  \n",
      " 10  NumberOfTime60-89DaysPastDueNotWorse  150000 non-null  int64  \n",
      " 11  NumberOfDependents                    146076 non-null  float64\n",
      "dtypes: float64(4), int64(8)\n",
      "memory usage: 13.7 MB\n"
     ]
    }
   ],
   "source": [
    "# MonthlyIncome와 NumberOfDependents에 결측치 존재\n",
    "data.info()"
   ]
  },
  {
   "cell_type": "code",
   "execution_count": 118,
   "id": "99cb9238",
   "metadata": {},
   "outputs": [],
   "source": [
    "# 데이터 전처리\n",
    "data.dropna(inplace=True) # 결측치가 포함되있는 데이터는 날려버리겠음"
   ]
  },
  {
   "cell_type": "code",
   "execution_count": 132,
   "id": "a8a771f4",
   "metadata": {},
   "outputs": [],
   "source": [
    "y = data['SeriousDlqin2yrs']\n",
    "X = data.drop(['SeriousDlqin2yrs','Unnamed: 0'], axis=1)"
   ]
  },
  {
   "cell_type": "code",
   "execution_count": 6,
   "id": "f7607bd8",
   "metadata": {},
   "outputs": [],
   "source": [
    "X_train, X_test, y_train, y_test = train_test_split(X, y, test_size=0.2, stratify=y, random_state=0)"
   ]
  },
  {
   "cell_type": "code",
   "execution_count": 7,
   "id": "56b4dacb",
   "metadata": {},
   "outputs": [
    {
     "data": {
      "text/plain": [
       "((96215, 11), (24054, 11))"
      ]
     },
     "execution_count": 7,
     "metadata": {},
     "output_type": "execute_result"
    }
   ],
   "source": [
    "X_train.shape, X_test.shape"
   ]
  },
  {
   "cell_type": "code",
   "execution_count": 121,
   "id": "31f44b9c",
   "metadata": {},
   "outputs": [],
   "source": [
    "# 검증단계\n",
    "tree = DecisionTreeClassifier(max_depth=1, random_state=0)\n",
    "rf = RandomForestClassifier(max_depth=1, n_estimators=200, random_state=0)\n",
    "\n",
    "# 학습\n",
    "tree.fit(X_train, y_train)\n",
    "rf.fit(X_train, y_train)\n",
    "\n",
    "# 학습\n",
    "proba_train_tree = tree.predict_proba(X_train)[:,1]\n",
    "proba_train_rf = rf.predict_proba(X_train)[:,1]\n",
    "\n",
    "#추론(확률) - test\n",
    "proba_test_tree = tree.predict_proba(X_test)[:,1] #양성\n",
    "proba_test_rf = rf.predict_proba(X_test)[:,1]\n"
   ]
  },
  {
   "cell_type": "code",
   "execution_count": 65,
   "id": "392f681d",
   "metadata": {},
   "outputs": [
    {
     "data": {
      "text/plain": [
       "((3,), (3,), (3,), (1232,), (1232,), (1232,))"
      ]
     },
     "execution_count": 65,
     "metadata": {},
     "output_type": "execute_result"
    }
   ],
   "source": [
    "fprs1, tprs1, thresholds1 = roc_curve(y_test, proba_test_tree) #tree 예측결과\n",
    "fprs2, tprs2, thresholds2 = roc_curve(y_test, proba_test_rf) # random forest예측결과\n",
    "fprs1.shape, tprs1.shape, thresholds1.shape, fprs2.shape, tprs2.shape, thresholds2.shape"
   ]
  },
  {
   "cell_type": "code",
   "execution_count": 66,
   "id": "b4317a69",
   "metadata": {},
   "outputs": [
    {
     "data": {
      "image/png": "[encoded data removed]",
      "text/plain": [
       "<Figure size 576x432 with 1 Axes>"
      ]
     },
     "metadata": {
      "needs_background": "light"
     },
     "output_type": "display_data"
    }
   ],
   "source": [
    "# ROC curve 직접 작성\n",
    "plt.figure(figsize=(8,6))\n",
    "plt.plot(fprs1, tprs1, label=\"Tree model\", marker=\"o\") #x:FPR, y:TPR\n",
    "plt.plot(fprs2, tprs2, label=\"Rf model\", marker=\"x\")\n",
    "plt.legend()\n",
    "plt.grid(True)\n",
    "plt.show()"
   ]
  },
  {
   "cell_type": "code",
   "execution_count": 67,
   "id": "27a08636",
   "metadata": {
    "scrolled": true
   },
   "outputs": [
    {
     "name": "stdout",
     "output_type": "stream",
     "text": [
      "DecisionTree roc auc 점수: 0.6528198778070463\n",
      "RandomForest roc auc 점수: 0.8365774117972805\n"
     ]
    }
   ],
   "source": [
    "# roc auc score\n",
    "print(\"DecisionTree roc auc 점수:\", roc_auc_score(y_test, proba_test_tree)) # (y정답, 양성확률)\n",
    "print(\"RandomForest roc auc 점수:\", roc_auc_score(y_test, proba_test_rf)) "
   ]
  },
  {
   "cell_type": "markdown",
   "id": "a31dbddf",
   "metadata": {},
   "source": [
    "rf의 n_estimators는 200으로 고정\n",
    "\n",
    "1. max_depth=1: DecisionTree roc auc 점수: 0.6528198778070463, RandomForest roc auc 점수: 0.8365774117972805\n",
    "2. max_depth=2: DecisionTree roc auc 점수: 0.7735128847278272, RandomForest roc auc 점수: 0.8443706863428374\n",
    "3. max_depth=3: DecisionTree roc auc 점수: 0.8088875103527237, RandomForest roc auc 점수: 0.8474220478037092\n",
    "4. max_depth=4: DecisionTree roc auc 점수: 0.8230929432022513, RandomForest roc auc 점수: 0.8493665965875135\n",
    "5. max_depth=5: DecisionTree roc auc 점수: 0.8337966642579714, RandomForest roc auc 점수: 0.8514317271809553\n",
    "6. max_depth=6: DecisionTree roc auc 점수: 0.8390918901032894, RandomForest roc auc 점수: 0.8530879089785403\n",
    "7. max_depth=7: DecisionTree roc auc 점수: 0.8453152884125721, RandomForest roc auc 점수: 0.8536154610798414"
   ]
  },
  {
   "cell_type": "code",
   "execution_count": null,
   "id": "c3b78bce",
   "metadata": {},
   "outputs": [],
   "source": []
  },
  {
   "cell_type": "markdown",
   "id": "32e99590",
   "metadata": {},
   "source": [
    "### 1-2번 방법 :  1번에서 처리한 방식에서  feature 중요도이용"
   ]
  },
  {
   "cell_type": "code",
   "execution_count": 122,
   "id": "f30b352f",
   "metadata": {},
   "outputs": [
    {
     "data": {
      "text/plain": [
       "array([0.155, 0.095, 0.19 , 0.03 , 0.02 , 0.085, 0.215, 0.21 ])"
      ]
     },
     "execution_count": 122,
     "metadata": {},
     "output_type": "execute_result"
    }
   ],
   "source": [
    "rf.feature_importances_"
   ]
  },
  {
   "cell_type": "code",
   "execution_count": 130,
   "id": "2f7f8ff0",
   "metadata": {},
   "outputs": [],
   "source": [
    "# 중요도 낮은 feature 제거\n",
    "y = data['SeriousDlqin2yrs']\n",
    "X = data.drop(['SeriousDlqin2yrs','Unnamed: 0', 'NumberRealEstateLoansOrLines', 'NumberOfDependents'], axis=1)"
   ]
  },
  {
   "cell_type": "code",
   "execution_count": 124,
   "id": "f85add70",
   "metadata": {},
   "outputs": [],
   "source": [
    "X_train, X_test, y_train, y_test = train_test_split(X, y, test_size=0.2, stratify=y, random_state=0)"
   ]
  },
  {
   "cell_type": "code",
   "execution_count": 125,
   "id": "60d64555",
   "metadata": {},
   "outputs": [
    {
     "data": {
      "text/plain": [
       "((96215, 8), (24054, 8))"
      ]
     },
     "execution_count": 125,
     "metadata": {},
     "output_type": "execute_result"
    }
   ],
   "source": [
    "X_train.shape, X_test.shape"
   ]
  },
  {
   "cell_type": "code",
   "execution_count": 128,
   "id": "714cacc9",
   "metadata": {},
   "outputs": [],
   "source": [
    "# 검증단계\n",
    "tree = DecisionTreeClassifier(max_depth=11, random_state=0)\n",
    "rf = RandomForestClassifier(max_depth=11, n_estimators=200, random_state=0)\n",
    "\n",
    "# 학습\n",
    "tree.fit(X_train, y_train)\n",
    "rf.fit(X_train, y_train)\n",
    "\n",
    "# 학습\n",
    "proba_train_tree = tree.predict_proba(X_train)[:,1]\n",
    "proba_train_rf = rf.predict_proba(X_train)[:,1]\n",
    "\n",
    "#추론(확률) - test\n",
    "proba_test_tree = tree.predict_proba(X_test)[:,1] #양성\n",
    "proba_test_rf = rf.predict_proba(X_test)[:,1]\n"
   ]
  },
  {
   "cell_type": "code",
   "execution_count": 129,
   "id": "273d0209",
   "metadata": {},
   "outputs": [
    {
     "name": "stdout",
     "output_type": "stream",
     "text": [
      "DecisionTree roc auc 점수: 0.7936662626507631\n",
      "RandomForest roc auc 점수: 0.8542333826970129\n"
     ]
    }
   ],
   "source": [
    "# roc auc score\n",
    "print(\"DecisionTree roc auc 점수:\", roc_auc_score(y_test, proba_test_tree)) # (y정답, 양성확률)\n",
    "print(\"RandomForest roc auc 점수:\", roc_auc_score(y_test, proba_test_rf)) "
   ]
  },
  {
   "cell_type": "code",
   "execution_count": null,
   "id": "33661e85",
   "metadata": {},
   "outputs": [],
   "source": []
  },
  {
   "cell_type": "markdown",
   "id": "d9004dbc",
   "metadata": {},
   "source": [
    "### 2번방법 : StandardScaler로 전처리한후에 시도"
   ]
  },
  {
   "cell_type": "code",
   "execution_count": 5,
   "id": "7fd1f078",
   "metadata": {},
   "outputs": [],
   "source": [
    "from sklearn.preprocessing import StandardScaler\n",
    "from sklearn.model_selection import GridSearchCV\n",
    "from sklearn.pipeline import Pipeline"
   ]
  },
  {
   "cell_type": "code",
   "execution_count": 38,
   "id": "254f60d0",
   "metadata": {
    "collapsed": true
   },
   "outputs": [
    {
     "data": {
      "text/plain": [
       "array([[-1.73324571,  3.65942733, -0.01997259, ...,  4.30315443,\n",
       "        -0.05447654,  0.9998099 ],\n",
       "       [-1.73322261, -0.2732668 , -0.01922942, ..., -0.91755695,\n",
       "        -0.05447654,  0.12902268],\n",
       "       [-1.73319951, -0.2732668 , -0.02039255, ..., -0.91755695,\n",
       "        -0.05447654, -0.74176455],\n",
       "       ...,\n",
       "       [ 1.73199761, -0.2732668 , -0.02178702, ..., -0.04743839,\n",
       "        -0.05447654,  0.9998099 ],\n",
       "       [ 1.73204382, -0.2732668 , -0.02295316, ..., -0.91755695,\n",
       "        -0.05447654, -0.74176455],\n",
       "       [ 1.73206692, -0.2732668 , -0.01964518, ...,  0.82268018,\n",
       "        -0.05447654, -0.74176455]])"
      ]
     },
     "execution_count": 38,
     "metadata": {},
     "output_type": "execute_result"
    }
   ],
   "source": [
    "data = pd.read_csv(r'C:\\202105_lab2\\2.machine_learning\\머신러닝 미니프로젝트 template\\cs_data.csv')\n",
    "data.dropna(inplace=True) \n",
    "sc = StandardScaler()\n",
    "sc.fit_transform(data)"
   ]
  },
  {
   "cell_type": "code",
   "execution_count": 40,
   "id": "d7e37eba",
   "metadata": {},
   "outputs": [],
   "source": [
    "y = data['SeriousDlqin2yrs']\n",
    "X = data.drop(['SeriousDlqin2yrs','Unnamed: 0'], axis=1)\n",
    "X_train, X_test, y_train, y_test = train_test_split(X, y, test_size=0.2, stratify=y, random_state=0)"
   ]
  },
  {
   "cell_type": "code",
   "execution_count": 111,
   "id": "840e99bf",
   "metadata": {},
   "outputs": [],
   "source": [
    "# 모델\n",
    "rf = RandomForestClassifier(max_depth=5, n_estimators=200, random_state=0)\n",
    "\n",
    "# 하이퍼 파라미터 후보\n",
    "param = {\n",
    "    \"n_estimators\":[100,200,300,400,500,600,700],\n",
    "    \"max_depth\": [1,3,5,7],\n",
    "    \"max_leaf_nodes\":[3,5,7], #range(3,10,2)같은 방식으로 넣는것도 가능,리스트형태 아니여도됨 이터러블타입이면가능    \n",
    "}\n",
    "\n",
    "# GridSearchCV생성\n",
    "gs = GridSearchCV(rf, \n",
    "                  param, \n",
    "                  scoring = 'roc_auc',\n",
    "                  n_jobs=-1\n",
    "                 )\n",
    "\n",
    "\n",
    "# 학습\n",
    "gs.fit(X_train, y_train)\n",
    "\n",
    "# 학습\n",
    "proba_train_gs = gs.predict_proba(X_train)[:,1]\n",
    "\n",
    "#추론(확률) - test\n",
    "proba_test_gs = gs.predict_proba(X_test)[:,1]"
   ]
  },
  {
   "cell_type": "code",
   "execution_count": 112,
   "id": "94be47cb",
   "metadata": {},
   "outputs": [
    {
     "data": {
      "text/plain": [
       "{'max_depth': 3, 'max_leaf_nodes': 7, 'n_estimators': 200}"
      ]
     },
     "execution_count": 112,
     "metadata": {},
     "output_type": "execute_result"
    }
   ],
   "source": [
    "gs.best_params_"
   ]
  },
  {
   "cell_type": "code",
   "execution_count": 113,
   "id": "eb44312a",
   "metadata": {},
   "outputs": [
    {
     "data": {
      "text/plain": [
       "0.8444577146306734"
      ]
     },
     "execution_count": 113,
     "metadata": {},
     "output_type": "execute_result"
    }
   ],
   "source": [
    "gs.best_score_  "
   ]
  },
  {
   "cell_type": "code",
   "execution_count": null,
   "id": "a4dfbcde",
   "metadata": {},
   "outputs": [],
   "source": []
  },
  {
   "cell_type": "code",
   "execution_count": null,
   "id": "29f3bb0a",
   "metadata": {},
   "outputs": [],
   "source": []
  },
  {
   "cell_type": "code",
   "execution_count": null,
   "id": "30dd31e9",
   "metadata": {},
   "outputs": [],
   "source": []
  },
  {
   "cell_type": "markdown",
   "id": "a9fc9ab0",
   "metadata": {},
   "source": [
    "### 2-2 : MinMaxScaler로 전처리후에 시도"
   ]
  },
  {
   "cell_type": "code",
   "execution_count": 147,
   "id": "a52371f3",
   "metadata": {},
   "outputs": [
    {
     "data": {
      "text/plain": [
       "((96215, 10), (24054, 10))"
      ]
     },
     "execution_count": 147,
     "metadata": {},
     "output_type": "execute_result"
    }
   ],
   "source": [
    "data = pd.read_csv(r'C:\\202105_lab2\\2.machine_learning\\머신러닝 미니프로젝트 template\\cs_data.csv')\n",
    "\n",
    "data.dropna(inplace=True) \n",
    "scaler = MinMaxScaler()\n",
    "scaler.fit_transform(data)\n",
    "\n",
    "y = data['SeriousDlqin2yrs']\n",
    "X = data.drop(['SeriousDlqin2yrs','Unnamed: 0'], axis=1)\n",
    "\n",
    "X_train, X_test, y_train, y_test = train_test_split(X, y, test_size=0.2, stratify=y, random_state=0)\n",
    "X_train.shape, X_test.shape"
   ]
  },
  {
   "cell_type": "code",
   "execution_count": 148,
   "id": "7e9dc733",
   "metadata": {},
   "outputs": [],
   "source": [
    "# 모델\n",
    "rf = RandomForestClassifier(max_depth=5, n_estimators=200, random_state=0)\n",
    "\n",
    "# 하이퍼 파라미터 후보\n",
    "param = {\n",
    "    \"n_estimators\":[100,200,300,400,500,600,700],\n",
    "    \"max_depth\": [1,3,5,7],\n",
    "    \"max_leaf_nodes\":[3,5,7], #range(3,10,2)같은 방식으로 넣는것도 가능,리스트형태 아니여도됨 이터러블타입이면가능    \n",
    "}\n",
    "\n",
    "# GridSearchCV생성\n",
    "gs = GridSearchCV(rf, \n",
    "                  param, \n",
    "                  scoring = 'roc_auc',\n",
    "                  n_jobs=-1\n",
    "                 )\n",
    "\n",
    "\n",
    "# 학습\n",
    "gs.fit(X_train, y_train)\n",
    "\n",
    "# 학습\n",
    "proba_train_gs = gs.predict_proba(X_train)[:,1]\n",
    "\n",
    "#추론(확률) - test\n",
    "proba_test_gs = gs.predict_proba(X_test)[:,1]"
   ]
  },
  {
   "cell_type": "code",
   "execution_count": 149,
   "id": "d8863a90",
   "metadata": {},
   "outputs": [
    {
     "data": {
      "text/plain": [
       "({'max_depth': 3, 'max_leaf_nodes': 7, 'n_estimators': 200},\n",
       " 0.8443786705193169)"
      ]
     },
     "execution_count": 149,
     "metadata": {},
     "output_type": "execute_result"
    }
   ],
   "source": [
    "gs.best_params_, gs.best_score_"
   ]
  },
  {
   "cell_type": "code",
   "execution_count": null,
   "id": "263dcf81",
   "metadata": {},
   "outputs": [],
   "source": []
  },
  {
   "cell_type": "markdown",
   "id": "95449446",
   "metadata": {},
   "source": [
    "- StandardScaler,MinMaxScaler로 전처리는 그리 도움이 되지 않는다.\n",
    "- 차라리 덜중요한 Feature들을 없애고 max_depth를 올리는게 정확도 올리는데 도움이됨"
   ]
  },
  {
   "cell_type": "markdown",
   "id": "0d0e6f34",
   "metadata": {},
   "source": [
    "### 3번 :  최근접 이웃"
   ]
  },
  {
   "cell_type": "code",
   "execution_count": 151,
   "id": "502c0503",
   "metadata": {},
   "outputs": [],
   "source": [
    "from sklearn.neighbors import KNeighborsClassifier\n",
    "from sklearn.preprocessing import MinMaxScaler"
   ]
  },
  {
   "cell_type": "code",
   "execution_count": 152,
   "id": "11c4b4ed",
   "metadata": {},
   "outputs": [
    {
     "data": {
      "text/plain": [
       "((96215, 10), (24054, 10))"
      ]
     },
     "execution_count": 152,
     "metadata": {},
     "output_type": "execute_result"
    }
   ],
   "source": [
    "data = pd.read_csv(r'C:\\202105_lab2\\2.machine_learning\\머신러닝 미니프로젝트 template\\cs_data.csv')\n",
    "\n",
    "data.dropna(inplace=True) \n",
    "\n",
    "y = data['SeriousDlqin2yrs']\n",
    "X = data.drop(['SeriousDlqin2yrs','Unnamed: 0'], axis=1)\n",
    "\n",
    "X_train, X_test, y_train, y_test = train_test_split(X, y, test_size=0.2, stratify=y, random_state=0)\n",
    "X_train.shape, X_test.shape"
   ]
  },
  {
   "cell_type": "code",
   "execution_count": 157,
   "id": "2bed3775",
   "metadata": {},
   "outputs": [
    {
     "name": "stdout",
     "output_type": "stream",
     "text": [
      "[Pipeline] ............ (step 1 of 2) Processing scaler, total=   0.0s\n",
      "[Pipeline] ............... (step 2 of 2) Processing knn, total=   0.8s\n"
     ]
    },
    {
     "data": {
      "text/plain": [
       "GridSearchCV(cv=5,\n",
       "             estimator=Pipeline(steps=[('scaler', MinMaxScaler()),\n",
       "                                       ('knn', KNeighborsClassifier())],\n",
       "                                verbose=True),\n",
       "             n_jobs=-1,\n",
       "             param_grid={'knn__n_neighbors': range(1, 11), 'knn__p': [1, 2]},\n",
       "             scoring='roc_auc')"
      ]
     },
     "execution_count": 157,
     "metadata": {},
     "output_type": "execute_result"
    }
   ],
   "source": [
    "order = [\n",
    "    ('scaler', MinMaxScaler()),\n",
    "    ('knn', KNeighborsClassifier())\n",
    "]\n",
    "pipeline = Pipeline(order, verbose=True)\n",
    "\n",
    "param = {\n",
    "    \"knn__n_neighbors\":range(1,11),\n",
    "    \"knn__p\":[1,2] # 1:멘하탄거리, 2:유클리디안거리\n",
    "}\n",
    "\n",
    "gs = GridSearchCV(pipeline, param, scoring='roc_auc', cv=5, n_jobs=-1)\n",
    "\n",
    "gs.fit(X_train, y_train)"
   ]
  },
  {
   "cell_type": "code",
   "execution_count": 162,
   "id": "b1ca2200",
   "metadata": {},
   "outputs": [
    {
     "data": {
      "text/html": [
       "<div>\n",
       "<style scoped>\n",
       "    .dataframe tbody tr th:only-of-type {\n",
       "        vertical-align: middle;\n",
       "    }\n",
       "\n",
       "    .dataframe tbody tr th {\n",
       "        vertical-align: top;\n",
       "    }\n",
       "\n",
       "    .dataframe thead th {\n",
       "        text-align: right;\n",
       "    }\n",
       "</style>\n",
       "<table border=\"1\" class=\"dataframe\">\n",
       "  <thead>\n",
       "    <tr style=\"text-align: right;\">\n",
       "      <th></th>\n",
       "      <th>params</th>\n",
       "      <th>split0_test_score</th>\n",
       "      <th>split1_test_score</th>\n",
       "      <th>split2_test_score</th>\n",
       "      <th>split3_test_score</th>\n",
       "      <th>split4_test_score</th>\n",
       "      <th>mean_test_score</th>\n",
       "      <th>std_test_score</th>\n",
       "      <th>rank_test_score</th>\n",
       "    </tr>\n",
       "  </thead>\n",
       "  <tbody>\n",
       "    <tr>\n",
       "      <th>19</th>\n",
       "      <td>{'knn__n_neighbors': 10, 'knn__p': 2}</td>\n",
       "      <td>0.678650</td>\n",
       "      <td>0.693256</td>\n",
       "      <td>0.677228</td>\n",
       "      <td>0.684151</td>\n",
       "      <td>0.676745</td>\n",
       "      <td>0.682006</td>\n",
       "      <td>0.006212</td>\n",
       "      <td>1</td>\n",
       "    </tr>\n",
       "    <tr>\n",
       "      <th>17</th>\n",
       "      <td>{'knn__n_neighbors': 9, 'knn__p': 2}</td>\n",
       "      <td>0.673783</td>\n",
       "      <td>0.688410</td>\n",
       "      <td>0.670544</td>\n",
       "      <td>0.676058</td>\n",
       "      <td>0.674820</td>\n",
       "      <td>0.676723</td>\n",
       "      <td>0.006123</td>\n",
       "      <td>2</td>\n",
       "    </tr>\n",
       "    <tr>\n",
       "      <th>18</th>\n",
       "      <td>{'knn__n_neighbors': 10, 'knn__p': 1}</td>\n",
       "      <td>0.665771</td>\n",
       "      <td>0.684421</td>\n",
       "      <td>0.663729</td>\n",
       "      <td>0.673465</td>\n",
       "      <td>0.668519</td>\n",
       "      <td>0.671181</td>\n",
       "      <td>0.007381</td>\n",
       "      <td>3</td>\n",
       "    </tr>\n",
       "    <tr>\n",
       "      <th>15</th>\n",
       "      <td>{'knn__n_neighbors': 8, 'knn__p': 2}</td>\n",
       "      <td>0.666977</td>\n",
       "      <td>0.680502</td>\n",
       "      <td>0.666523</td>\n",
       "      <td>0.671732</td>\n",
       "      <td>0.668937</td>\n",
       "      <td>0.670935</td>\n",
       "      <td>0.005124</td>\n",
       "      <td>4</td>\n",
       "    </tr>\n",
       "    <tr>\n",
       "      <th>16</th>\n",
       "      <td>{'knn__n_neighbors': 9, 'knn__p': 1}</td>\n",
       "      <td>0.661482</td>\n",
       "      <td>0.679605</td>\n",
       "      <td>0.660453</td>\n",
       "      <td>0.665212</td>\n",
       "      <td>0.666370</td>\n",
       "      <td>0.666624</td>\n",
       "      <td>0.006857</td>\n",
       "      <td>5</td>\n",
       "    </tr>\n",
       "  </tbody>\n",
       "</table>\n",
       "</div>"
      ],
      "text/plain": [
       "                                   params  split0_test_score  \\\n",
       "19  {'knn__n_neighbors': 10, 'knn__p': 2}           0.678650   \n",
       "17   {'knn__n_neighbors': 9, 'knn__p': 2}           0.673783   \n",
       "18  {'knn__n_neighbors': 10, 'knn__p': 1}           0.665771   \n",
       "15   {'knn__n_neighbors': 8, 'knn__p': 2}           0.666977   \n",
       "16   {'knn__n_neighbors': 9, 'knn__p': 1}           0.661482   \n",
       "\n",
       "    split1_test_score  split2_test_score  split3_test_score  \\\n",
       "19           0.693256           0.677228           0.684151   \n",
       "17           0.688410           0.670544           0.676058   \n",
       "18           0.684421           0.663729           0.673465   \n",
       "15           0.680502           0.666523           0.671732   \n",
       "16           0.679605           0.660453           0.665212   \n",
       "\n",
       "    split4_test_score  mean_test_score  std_test_score  rank_test_score  \n",
       "19           0.676745         0.682006        0.006212                1  \n",
       "17           0.674820         0.676723        0.006123                2  \n",
       "18           0.668519         0.671181        0.007381                3  \n",
       "15           0.668937         0.670935        0.005124                4  \n",
       "16           0.666370         0.666624        0.006857                5  "
      ]
     },
     "execution_count": 162,
     "metadata": {},
     "output_type": "execute_result"
    }
   ],
   "source": [
    "result_df = pd.DataFrame(gs.cv_results_)\n",
    "result_df[result_df.columns[6:]].sort_values('rank_test_score').head()"
   ]
  },
  {
   "cell_type": "code",
   "execution_count": 163,
   "id": "f10f3f1e",
   "metadata": {},
   "outputs": [
    {
     "data": {
      "text/plain": [
       "0.5252592956744311"
      ]
     },
     "execution_count": 163,
     "metadata": {},
     "output_type": "execute_result"
    }
   ],
   "source": [
    "best_model = gs.best_estimator_\n",
    "roc_auc_score(y_test, best_model.predict(X_test))"
   ]
  },
  {
   "cell_type": "markdown",
   "id": "ce7ceac7",
   "metadata": {},
   "source": []
  },
  {
   "cell_type": "markdown",
   "id": "2d8893bf",
   "metadata": {},
   "source": [
    "- 최근접 이웃모델은 성능이 매우안좋다"
   ]
  },
  {
   "cell_type": "code",
   "execution_count": null,
   "id": "52f5ea18",
   "metadata": {},
   "outputs": [],
   "source": []
  },
  {
   "cell_type": "markdown",
   "id": "fc573379",
   "metadata": {},
   "source": [
    "## 최종 작성코드는 1-2번 방식입니다\n",
    "\n",
    "1-1번에서 Feature의 중요도를 살펴본뒤 중요도가 낮은 Feature제거후에 max_depth와 max_leaf_nodes를 11까지 올린뒤에 랜덤포레스트로 학습시킨게 가장 결과가 좋았습니다\n",
    "\n",
    "\n",
    "최종 예측 확률 : RandomForest roc auc 점수: 0.8542333826970129"
   ]
  },
  {
   "cell_type": "code",
   "execution_count": null,
   "id": "23539405",
   "metadata": {},
   "outputs": [],
   "source": []
  },
  {
   "cell_type": "code",
   "execution_count": null,
   "id": "55559bf8",
   "metadata": {},
   "outputs": [],
   "source": []
  },
  {
   "cell_type": "code",
   "execution_count": null,
   "id": "5123d272",
   "metadata": {},
   "outputs": [],
   "source": []
  }
 ],
 "metadata": {
  "kernelspec": {
   "display_name": "Python 3 (ipykernel)",
   "language": "python",
   "name": "python3"
  },
  "language_info": {
   "codemirror_mode": {
    "name": "ipython",
    "version": 3
   },
   "file_extension": ".py",
   "mimetype": "text/x-python",
   "name": "python",
   "nbconvert_exporter": "python",
   "pygments_lexer": "ipython3",
   "version": "3.8.10"
  }
 },
 "nbformat": 4,
 "nbformat_minor": 5
}
